{
 "cells": [
  {
   "cell_type": "markdown",
   "metadata": {},
   "source": [
    "# Dataset Generation\n",
    "\n",
    "From https://www.mrlc.gov/data/nlcd-land-cover-conus-all-years"
   ]
  },
  {
   "cell_type": "code",
   "execution_count": 1,
   "metadata": {
    "scrolled": false
   },
   "outputs": [
    {
     "ename": "ModuleNotFoundError",
     "evalue": "No module named 'rasterio'",
     "output_type": "error",
     "traceback": [
      "\u001b[0;31m---------------------------------------------------------------------------\u001b[0m",
      "\u001b[0;31mModuleNotFoundError\u001b[0m                       Traceback (most recent call last)",
      "\u001b[0;32m/tmp/ipykernel_51820/1682977964.py\u001b[0m in \u001b[0;36m<module>\u001b[0;34m\u001b[0m\n\u001b[1;32m      2\u001b[0m \u001b[0;32mimport\u001b[0m \u001b[0mrandom\u001b[0m\u001b[0;34m\u001b[0m\u001b[0;34m\u001b[0m\u001b[0m\n\u001b[1;32m      3\u001b[0m \u001b[0;32mfrom\u001b[0m \u001b[0mshapely\u001b[0m\u001b[0;34m.\u001b[0m\u001b[0mgeometry\u001b[0m \u001b[0;32mimport\u001b[0m \u001b[0mPoint\u001b[0m\u001b[0;34m,\u001b[0m \u001b[0mPolygon\u001b[0m\u001b[0;34m,\u001b[0m \u001b[0mMultiPolygon\u001b[0m\u001b[0;34m\u001b[0m\u001b[0;34m\u001b[0m\u001b[0m\n\u001b[0;32m----> 4\u001b[0;31m \u001b[0;32mimport\u001b[0m \u001b[0mrasterio\u001b[0m\u001b[0;34m\u001b[0m\u001b[0;34m\u001b[0m\u001b[0m\n\u001b[0m\u001b[1;32m      5\u001b[0m \u001b[0;32mimport\u001b[0m \u001b[0mmatplotlib\u001b[0m\u001b[0;34m.\u001b[0m\u001b[0mpyplot\u001b[0m \u001b[0;32mas\u001b[0m \u001b[0mplt\u001b[0m\u001b[0;34m\u001b[0m\u001b[0;34m\u001b[0m\u001b[0m\n\u001b[1;32m      6\u001b[0m \u001b[0;32mimport\u001b[0m \u001b[0mfiona\u001b[0m\u001b[0;34m.\u001b[0m\u001b[0mtransform\u001b[0m\u001b[0;34m\u001b[0m\u001b[0;34m\u001b[0m\u001b[0m\n",
      "\u001b[0;31mModuleNotFoundError\u001b[0m: No module named 'rasterio'"
     ]
    }
   ],
   "source": [
    "import geopandas\n",
    "import random\n",
    "from shapely.geometry import Point, Polygon, MultiPolygon\n",
    "import rasterio\n",
    "import matplotlib.pyplot as plt\n",
    "import fiona.transform\n",
    "from zipfile import ZipFile, ZIP_DEFLATED, ZIP_LZMA\n",
    "import numpy as np\n",
    "import io\n",
    "import pandas as pd\n",
    "import sqlite3\n",
    "\n",
    "random.seed(320)"
   ]
  },
  {
   "cell_type": "markdown",
   "metadata": {},
   "source": [
    "## Read State Shape file"
   ]
  },
  {
   "cell_type": "code",
   "execution_count": null,
   "metadata": {
    "scrolled": false
   },
   "outputs": [],
   "source": [
    "city = {\"madison\":Point(-89.39,43.08),\n",
    "        \"milwaukee\":Point(-87.97,43.06),\n",
    "        \"greenbay\":Point(-87.99,44.52),\n",
    "        \"kenosha\":Point(-87.87,42.59),\n",
    "        \"racine\":Point(-87.81,42.73),\n",
    "        \"appleton\":Point(-88.39,44.28),\n",
    "        \"waukesha\":Point(-88.25,43.01),\n",
    "        \"oshkosh\":Point(-88.56,44.02),\n",
    "        \"eauclaire\":Point(-91.49,44.82),\n",
    "        \"janesville\":Point(-89.01,42.69),\n",
    "       }"
   ]
  },
  {
   "cell_type": "code",
   "execution_count": null,
   "metadata": {},
   "outputs": [],
   "source": [
    "cong = geopandas.read_file(\"zip://data/cb_2018_us_cd116_20m.zip\")\n",
    "wi = cong[cong[\"STATEFP\"] == \"55\"]\n",
    "wi.head(3)"
   ]
  },
  {
   "cell_type": "code",
   "execution_count": null,
   "metadata": {},
   "outputs": [],
   "source": [
    "sample_size_per_district = 250\n",
    "points = []\n",
    "for row in wi.itertuples():\n",
    "    district, shape = row.CD116FP, row.geometry\n",
    "    minx, miny, maxx, maxy = shape.bounds\n",
    "\n",
    "    i = 0\n",
    "    while i < sample_size_per_district:\n",
    "        pt = Point(random.uniform(minx, maxx), random.uniform(miny, maxy))\n",
    "        if not shape.contains(pt):\n",
    "            continue\n",
    "        points.append({\"lon\": pt.x, \"lat\": pt.y, \"district\": \"district \" + district, \"geometry\": pt})\n",
    "        i += 1\n",
    "sample = geopandas.GeoDataFrame(points).sample(frac=1).reset_index(drop=True).set_crs(wi.crs)\n",
    "sample.head(3)"
   ]
  },
  {
   "cell_type": "code",
   "execution_count": null,
   "metadata": {},
   "outputs": [],
   "source": [
    "ax = wi.boundary.plot(color=\"black\", figsize=(6,6))\n",
    "sample.iloc[400:].plot(ax=ax, markersize=5, color=\"0.7\")\n",
    "sample.iloc[:400].plot(ax=ax, markersize=5, color=\"red\")\n",
    "plt.axis(\"off\")\n",
    "plt.title(\"Wisconsin\")\n",
    "plt.show()"
   ]
  },
  {
   "cell_type": "code",
   "execution_count": null,
   "metadata": {},
   "outputs": [],
   "source": [
    "num_rows = 2\n",
    "num_cols = 4\n",
    "\n",
    "fig, ax_ll = plt.subplots(num_rows, num_cols, figsize=(7,3))\n",
    "\n",
    "for i in range(num_rows):\n",
    "    for j in range(num_cols):\n",
    "        ax = ax_ll[i][j]\n",
    "        polygon = wi.iloc[i * num_cols + j][\"geometry\"]\n",
    "\n",
    "        # Some districts are Multipolygons\n",
    "        if isinstance(polygon, MultiPolygon):\n",
    "            for geom in polygon.geoms:\n",
    "                x, y = geom.exterior.xy\n",
    "                ax.plot(x, y, color=\"r\")\n",
    "        else:\n",
    "            x, y = polygon.exterior.xy\n",
    "            ax.plot(x, y, color=\"r\")\n",
    "            \n",
    "        ax.axis(\"off\")\n",
    "        ax.text(-0.1, 0.5, i * num_cols + j + 1, size=16,\n",
    "            verticalalignment=\"center\", horizontalalignment=\"center\",\n",
    "            transform=ax.transAxes, color=\"b\")\n",
    "        \n",
    "plt.tight_layout()\n",
    "plt.savefig(\"imgs/congressional_districts.png\", dpi=150)\n",
    "plt.show()"
   ]
  },
  {
   "cell_type": "markdown",
   "metadata": {},
   "source": [
    "## Extract area coded images corresponding to Points"
   ]
  },
  {
   "cell_type": "code",
   "execution_count": null,
   "metadata": {
    "scrolled": false
   },
   "outputs": [],
   "source": [
    "# data: https://www.mrlc.gov/data/nlcd-land-cover-conus-all-years\n",
    "\n",
    "import time\n",
    "\n",
    "def get_map(raster, pt, radius):\n",
    "    # raster coords to cell\n",
    "    x,y = raster.index(pt.x, pt.y)\n",
    "    return raster.read(window=((x-radius,x+radius),(y-radius,y+radius)))\n",
    "\n",
    "t0 = time.time()\n",
    "\n",
    "with ZipFile(f\"data/images.zip\", \"w\", compression=ZIP_LZMA) as zf:\n",
    "    path = f\"zip://data/NLCD_2016_Land_Cover_L48_20190424.zip!NLCD_2016_Land_Cover_L48_20190424.img\"\n",
    "\n",
    "    with rasterio.open(path) as raster:\n",
    "        sample = sample.to_crs(raster.crs).copy()\n",
    "        sample[\"file_name\"] = None\n",
    "        for i in sample.index:\n",
    "            if i % 100 == 0:\n",
    "                print(i, sample.at[i, \"geometry\"])\n",
    "            radius = 50\n",
    "            m = get_map(raster, sample.at[i, \"geometry\"], radius=radius)\n",
    "            fname = f\"area{str(i).zfill(4)}.npy\"\n",
    "            with zf.open(fname, \"w\") as img_file:\n",
    "                np.save(img_file, m[0,:,:])\n",
    "            sample.at[i, \"file_name\"] = fname\n",
    "\n",
    "t1 = time.time()\n",
    "print(\"SEC\", t1-t0)"
   ]
  },
  {
   "cell_type": "code",
   "execution_count": null,
   "metadata": {},
   "outputs": [],
   "source": [
    "sample"
   ]
  },
  {
   "cell_type": "markdown",
   "metadata": {},
   "source": [
    "## Create images.db"
   ]
  },
  {
   "cell_type": "code",
   "execution_count": null,
   "metadata": {},
   "outputs": [],
   "source": [
    "district_tbl = pd.DataFrame([\n",
    "    [103, \"district 01\"],\n",
    "    [999, \"district 02\"],\n",
    "    [321, \"district 03\"],\n",
    "    [12, \"district 04\"],\n",
    "    [234, \"district 05\"],\n",
    "    [25, \"district 06\"],\n",
    "    [1024, \"district 07\"],\n",
    "    [500, \"district 08\"],\n",
    "], columns=[\"district_id\", \"district_name\"])\n",
    "\n",
    "lookup = dict(district_tbl.set_index(\"district_name\")[\"district_id\"])\n",
    "sample[\"district_id\"] = sample[\"district\"].apply(lambda name: lookup[name])\n",
    "for col in [\"water_ratio\", \"forest_ratio\", \"agriculture_ratio\", \"developed_ratio\"]:\n",
    "    sample[col] = None"
   ]
  },
  {
   "cell_type": "code",
   "execution_count": null,
   "metadata": {},
   "outputs": [],
   "source": [
    "sample.head(3)"
   ]
  },
  {
   "cell_type": "code",
   "execution_count": null,
   "metadata": {},
   "outputs": [],
   "source": [
    "with sqlite3.connect(f\"data/images.db\") as c:\n",
    "    district_tbl.to_sql(\"districts\", c, index=False, if_exists=\"replace\")\n",
    "    tbl = sample[[\"file_name\", \"lon\", \"lat\", \"district_id\", \"water_ratio\", \"forest_ratio\", \"agriculture_ratio\"]]\n",
    "    tbl.to_sql(\"sample\", c, index=False, if_exists=\"replace\")"
   ]
  },
  {
   "cell_type": "markdown",
   "metadata": {},
   "source": [
    "## Show sample area"
   ]
  },
  {
   "cell_type": "code",
   "execution_count": null,
   "metadata": {},
   "outputs": [],
   "source": [
    "from matplotlib.colors import ListedColormap\n",
    "use_cmap = np.zeros(shape=(256,4))\n",
    "use_cmap[:,-1] = 1\n",
    "uses = np.array([\n",
    "    [0, 0.00000000000, 0.00000000000, 0.00000000000],\n",
    "    [11, 0.27843137255, 0.41960784314, 0.62745098039],\n",
    "    [12, 0.81960784314, 0.86666666667, 0.97647058824],\n",
    "    [21, 0.86666666667, 0.78823529412, 0.78823529412],\n",
    "    [22, 0.84705882353, 0.57647058824, 0.50980392157],\n",
    "    [23, 0.92941176471, 0.00000000000, 0.00000000000],\n",
    "    [24, 0.66666666667, 0.00000000000, 0.00000000000],\n",
    "    [31, 0.69803921569, 0.67843137255, 0.63921568628],\n",
    "    [41, 0.40784313726, 0.66666666667, 0.38823529412],\n",
    "    [42, 0.10980392157, 0.38823529412, 0.18823529412],\n",
    "    [43, 0.70980392157, 0.78823529412, 0.55686274510],\n",
    "    [51, 0.64705882353, 0.54901960784, 0.18823529412],\n",
    "    [52, 0.80000000000, 0.72941176471, 0.48627450980],\n",
    "    [71, 0.88627450980, 0.88627450980, 0.75686274510],\n",
    "    [72, 0.78823529412, 0.78823529412, 0.46666666667],\n",
    "    [73, 0.60000000000, 0.75686274510, 0.27843137255],\n",
    "    [74, 0.46666666667, 0.67843137255, 0.57647058824],\n",
    "    [81, 0.85882352941, 0.84705882353, 0.23921568628],\n",
    "    [82, 0.66666666667, 0.43921568628, 0.15686274510],\n",
    "    [90, 0.72941176471, 0.84705882353, 0.91764705882],\n",
    "    [95, 0.43921568628, 0.63921568628, 0.72941176471],\n",
    "])\n",
    "for row in uses:\n",
    "    use_cmap[int(row[0]),:-1] = row[1:]\n",
    "use_cmap = ListedColormap(use_cmap)\n",
    "\n",
    "def show_img(name):\n",
    "    plt.figure(figsize = (2,2))\n",
    "    with ZipFile(f\"data/images.zip\") as zf:\n",
    "        with zf.open(name) as f:\n",
    "            buf = io.BytesIO(f.read())\n",
    "            B = np.load(buf)\n",
    "    plt.imshow(B, cmap=use_cmap, vmin=0, vmax=255)\n",
    "    return B\n",
    "for i in range(10):\n",
    "    show_img(f\"area{str(i).zfill(4)}.npy\")"
   ]
  },
  {
   "cell_type": "code",
   "execution_count": null,
   "metadata": {},
   "outputs": [],
   "source": []
  }
 ],
 "metadata": {
  "kernelspec": {
   "display_name": "Python 3 (ipykernel)",
   "language": "python",
   "name": "python3"
  },
  "language_info": {
   "codemirror_mode": {
    "name": "ipython",
    "version": 3
   },
   "file_extension": ".py",
   "mimetype": "text/x-python",
   "name": "python",
   "nbconvert_exporter": "python",
   "pygments_lexer": "ipython3",
   "version": "3.8.10"
  }
 },
 "nbformat": 4,
 "nbformat_minor": 4
}
