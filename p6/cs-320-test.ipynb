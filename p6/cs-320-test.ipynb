{
 "cells": [
  {
   "cell_type": "code",
   "execution_count": 1,
   "id": "69bc1b48",
   "metadata": {
    "execution": {
     "iopub.execute_input": "2021-12-03T03:28:02.441932Z",
     "iopub.status.busy": "2021-12-03T03:28:02.440798Z",
     "iopub.status.idle": "2021-12-03T03:28:03.415619Z",
     "shell.execute_reply": "2021-12-03T03:28:03.416069Z"
    }
   },
   "outputs": [
    {
     "data": {
      "text/plain": [
       "72"
      ]
     },
     "execution_count": 1,
     "metadata": {},
     "output_type": "execute_result"
    }
   ],
   "source": [
    "#q1\n",
    "import geopandas\n",
    "with open(\"counties.geojson\", \"r\") as json_file:\n",
    "    df = geopandas.read_file(json_file)\n",
    "    N = len(df)\n",
    "N"
   ]
  },
  {
   "cell_type": "code",
   "execution_count": null,
   "id": "5b73997c",
   "metadata": {},
   "outputs": [],
   "source": []
  }
 ],
 "metadata": {
  "kernelspec": {
   "display_name": "Python 3 (ipykernel)",
   "language": "python",
   "name": "python3"
  },
  "language_info": {
   "codemirror_mode": {
    "name": "ipython",
    "version": 3
   },
   "file_extension": ".py",
   "mimetype": "text/x-python",
   "name": "python",
   "nbconvert_exporter": "python",
   "pygments_lexer": "ipython3",
   "version": "3.8.10"
  }
 },
 "nbformat": 4,
 "nbformat_minor": 5
}
