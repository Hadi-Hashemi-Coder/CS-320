{
 "cells": [
  {
   "cell_type": "code",
   "execution_count": 38,
   "id": "ba12d312",
   "metadata": {},
   "outputs": [
    {
     "ename": "IndentationError",
     "evalue": "unexpected indent (3800852016.py, line 47)",
     "output_type": "error",
     "traceback": [
      "\u001b[0;36m  File \u001b[0;32m\"/tmp/ipykernel_92571/3800852016.py\"\u001b[0;36m, line \u001b[0;32m47\u001b[0m\n\u001b[0;31m    self.BFSorder.append(file[indices_new_lines[2]-1])\u001b[0m\n\u001b[0m    ^\u001b[0m\n\u001b[0;31mIndentationError\u001b[0m\u001b[0;31m:\u001b[0m unexpected indent\n"
     ]
    }
   ],
   "source": [
    "import os, zipfile\n",
    "import pandas as pd\n",
    "import re\n",
    "\n",
    "class GraphScraper:\n",
    "    def __init__(self):\n",
    "        self.visited = set()\n",
    "        self.BFSorder = []\n",
    "        self.DFSorder = []    \n",
    "\n",
    "    def go(self, node):\n",
    "        raise Exception(\"must be overridden in sub classes -- don't change me here!\")\n",
    "\n",
    "    def dfs_search(self, node):\n",
    "        if node in self.visited:\n",
    "            return False\n",
    "        self.visited.add(node)\n",
    "        for child in self.go(node):\n",
    "            if self.dfs_search(child):\n",
    "                return True\n",
    "        return False\n",
    "        \n",
    "\n",
    "    def bfs_search(self, node):\n",
    "        todo = [node]\n",
    "        while len(todo) > 0:\n",
    "            curr = todo.pop(0)\n",
    "            print(\"The curr is: \" + curr)\n",
    "            for child in self.go(curr):\n",
    "                print(child)\n",
    "                if not child in self.visited:\n",
    "                    todo.append(child) # add to end\n",
    "                    self.visited.add(child)\n",
    "        pass\n",
    "\n",
    "class FileScraper(GraphScraper):\n",
    "\n",
    "    def go(self, node):\n",
    "        file = open(\"file_nodes/\"+node+\".txt\",\"r\").read()\n",
    "        global indices_new_lines\n",
    "        indices_new_lines = []\n",
    "        for i in range(len(file)-1):\n",
    "            if file[i] == \"\\n\":\n",
    "                indices_new_lines.append(i)\n",
    "                \n",
    "        print(file)\n",
    "         self.BFSorder.append(file[indices_new_lines[2]-1])\n",
    "         self.DFSorder.append(file[indices_new_lines[3]-1]) \n",
    "        \n",
    "        children_string = file[indices_new_lines[0]+1:indices_new_lines[1]]\n",
    "        children = []\n",
    "        for i in children_string:\n",
    "            if i != \" \":\n",
    "                children.append(i)\n",
    "        return children"
   ]
  },
  {
   "cell_type": "code",
   "execution_count": 39,
   "id": "a87e311c",
   "metadata": {},
   "outputs": [
    {
     "name": "stdout",
     "output_type": "stream",
     "text": [
      "The curr is: 1\n",
      "1\n",
      "2 4\n",
      "BFS: M\n",
      "DFS: C\n",
      "\n",
      "4\n",
      "The curr is: 4\n",
      "4\n",
      "3 6 7\n",
      "BFS: D\n",
      "DFS: 1\n",
      "\n",
      "\n",
      "6\n",
      "7\n",
      "The curr is: 6\n",
      "6\n",
      "3\n",
      "BFS: T\n",
      "DFS: I\n",
      "\n",
      "The curr is: 7\n",
      "7\n",
      "6\n",
      "BFS: Y\n",
      "DFS: 9\n",
      "\n"
     ]
    },
    {
     "data": {
      "text/plain": [
       "[]"
      ]
     },
     "execution_count": 39,
     "metadata": {},
     "output_type": "execute_result"
    }
   ],
   "source": [
    "#This has to work\n",
    "fs = FileScraper()\n",
    "fs.bfs_search(\"1\")\n",
    "fs.DFSorder"
   ]
  },
  {
   "cell_type": "code",
   "execution_count": 35,
   "id": "e1ed3e1d",
   "metadata": {},
   "outputs": [
    {
     "data": {
      "text/plain": [
       "'\\n'"
      ]
     },
     "execution_count": 35,
     "metadata": {},
     "output_type": "execute_result"
    }
   ],
   "source": [
    "dat=open(\"file_nodes/1.txt\",\"r\").read()\n",
    "dat[1]"
   ]
  },
  {
   "cell_type": "markdown",
   "id": "8206b85c",
   "metadata": {},
   "source": [
    "#### "
   ]
  },
  {
   "cell_type": "code",
   "execution_count": null,
   "id": "e6dc600f",
   "metadata": {},
   "outputs": [],
   "source": []
  }
 ],
 "metadata": {
  "kernelspec": {
   "display_name": "Python 3 (ipykernel)",
   "language": "python",
   "name": "python3"
  },
  "language_info": {
   "codemirror_mode": {
    "name": "ipython",
    "version": 3
   },
   "file_extension": ".py",
   "mimetype": "text/x-python",
   "name": "python",
   "nbconvert_exporter": "python",
   "pygments_lexer": "ipython3",
   "version": "3.8.10"
  }
 },
 "nbformat": 4,
 "nbformat_minor": 5
}
